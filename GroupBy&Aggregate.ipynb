{
  "nbformat": 4,
  "nbformat_minor": 0,
  "metadata": {
    "colab": {
      "private_outputs": true,
      "provenance": [],
      "authorship_tag": "ABX9TyMX8YFLIw3AbzIgLQmulJxz",
      "include_colab_link": true
    },
    "kernelspec": {
      "name": "python3",
      "display_name": "Python 3"
    },
    "language_info": {
      "name": "python"
    }
  },
  "cells": [
    {
      "cell_type": "markdown",
      "metadata": {
        "id": "view-in-github",
        "colab_type": "text"
      },
      "source": [
        "<a href=\"https://colab.research.google.com/github/shahidulislamkhokon/ApacheSpark-PySpark-/blob/main/GroupBy%26Aggregate.ipynb\" target=\"_parent\"><img src=\"https://colab.research.google.com/assets/colab-badge.svg\" alt=\"Open In Colab\"/></a>"
      ]
    },
    {
      "cell_type": "markdown",
      "source": [
        "**Pyspark GroupBy and Aggregate Function**\n",
        "- GroupBy and Aggregation function works together\n",
        "- at first GroupBy and then Aggregation function"
      ],
      "metadata": {
        "id": "Zw4uhHFxe-QC"
      }
    },
    {
      "cell_type": "code",
      "execution_count": null,
      "metadata": {
        "id": "BV5HzHFne1sJ"
      },
      "outputs": [],
      "source": [
        "!pip install pyspark"
      ]
    },
    {
      "cell_type": "code",
      "source": [
        "from pyspark.sql import SparkSession"
      ],
      "metadata": {
        "id": "Qch0DLO5f1DA"
      },
      "execution_count": null,
      "outputs": []
    },
    {
      "cell_type": "code",
      "source": [
        "### create spark session\n",
        "spark = SparkSession.builder.appName('Agg').getOrCreate()"
      ],
      "metadata": {
        "id": "yAlL__aaf1FQ"
      },
      "execution_count": null,
      "outputs": []
    },
    {
      "cell_type": "code",
      "source": [
        "df_pyspark = spark.read.csv('GroupByandAggregation.csv', header=True, inferSchema=True)"
      ],
      "metadata": {
        "id": "at20InTsf1Hi"
      },
      "execution_count": null,
      "outputs": []
    },
    {
      "cell_type": "code",
      "source": [
        "df_pyspark.printSchema()"
      ],
      "metadata": {
        "id": "9jqcKxVpf1Jr"
      },
      "execution_count": null,
      "outputs": []
    },
    {
      "cell_type": "markdown",
      "source": [
        "**Group By Operation**"
      ],
      "metadata": {
        "id": "-qIQEPUyg1xA"
      }
    },
    {
      "cell_type": "code",
      "source": [
        "### find maximum salary from the csv file\n",
        "df_pyspark.groupBy('Name').sum().show()"
      ],
      "metadata": {
        "id": "9YGJ2olKf1MF"
      },
      "execution_count": null,
      "outputs": []
    },
    {
      "cell_type": "code",
      "source": [
        "### find maximum salary from the csv file\n",
        "df_pyspark.groupBy('Name').max().show()"
      ],
      "metadata": {
        "id": "VW7h0gZekL07"
      },
      "execution_count": null,
      "outputs": []
    },
    {
      "cell_type": "markdown",
      "source": [
        "**Aggregation**"
      ],
      "metadata": {
        "id": "FH8cZDesj82t"
      }
    },
    {
      "cell_type": "code",
      "source": [
        "### total salary\n",
        "df_pyspark.agg({'Salary':'sum'}).show()"
      ],
      "metadata": {
        "id": "COVlqtCGf1ON"
      },
      "execution_count": null,
      "outputs": []
    },
    {
      "cell_type": "code",
      "source": [],
      "metadata": {
        "id": "R2NtyhF4f1Rm"
      },
      "execution_count": null,
      "outputs": []
    }
  ]
}