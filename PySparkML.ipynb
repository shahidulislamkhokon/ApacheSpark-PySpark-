{
  "nbformat": 4,
  "nbformat_minor": 0,
  "metadata": {
    "colab": {
      "private_outputs": true,
      "provenance": [],
      "authorship_tag": "ABX9TyN9B0e3dL6SS+1Ii5aeHoO/",
      "include_colab_link": true
    },
    "kernelspec": {
      "name": "python3",
      "display_name": "Python 3"
    },
    "language_info": {
      "name": "python"
    }
  },
  "cells": [
    {
      "cell_type": "markdown",
      "metadata": {
        "id": "view-in-github",
        "colab_type": "text"
      },
      "source": [
        "<a href=\"https://colab.research.google.com/github/shahidulislamkhokon/ApacheSpark-PySpark-/blob/main/PySparkML.ipynb\" target=\"_parent\"><img src=\"https://colab.research.google.com/assets/colab-badge.svg\" alt=\"Open In Colab\"/></a>"
      ]
    },
    {
      "cell_type": "markdown",
      "source": [
        "Example OF PySpark ***Machine Learning***"
      ],
      "metadata": {
        "id": "KS2W8F_YnHhT"
      }
    },
    {
      "cell_type": "code",
      "execution_count": null,
      "metadata": {
        "id": "FGeORn3nl-yp"
      },
      "outputs": [],
      "source": [
        "!pip install pyspark"
      ]
    },
    {
      "cell_type": "code",
      "source": [
        "from pyspark.sql import SparkSession\n",
        "spark = SparkSession.builder.appName('Machine Learning').getOrCreate()"
      ],
      "metadata": {
        "id": "z_zVFkuRnX_u"
      },
      "execution_count": null,
      "outputs": []
    },
    {
      "cell_type": "code",
      "source": [
        "### Read the dataset\n",
        "training = spark.read.csv('PysparkML.csv', header=True, inferSchema=True)\n",
        "training.show()"
      ],
      "metadata": {
        "id": "JCb64D7fnYBw"
      },
      "execution_count": null,
      "outputs": []
    },
    {
      "cell_type": "code",
      "source": [
        "training.printSchema()"
      ],
      "metadata": {
        "id": "gdsol4LDnYEI"
      },
      "execution_count": null,
      "outputs": []
    },
    {
      "cell_type": "code",
      "source": [
        "training.columns"
      ],
      "metadata": {
        "id": "0bVImokknYGf"
      },
      "execution_count": null,
      "outputs": []
    },
    {
      "cell_type": "code",
      "source": [
        "### group some features and make one independent feature\n",
        "### for this we have to import VectorAsserbler method\n",
        "from pyspark.ml.feature import VectorAssembler\n",
        "featureassembler = VectorAssembler(inputCols=['Age', 'Experience'], outputCol='Independent features')"
      ],
      "metadata": {
        "id": "kJnB6uHtnYI6"
      },
      "execution_count": null,
      "outputs": []
    },
    {
      "cell_type": "code",
      "source": [
        "output = featureassembler.transform(training)\n",
        "output.show()"
      ],
      "metadata": {
        "id": "LdH3UKw1nYMg"
      },
      "execution_count": null,
      "outputs": []
    },
    {
      "cell_type": "code",
      "source": [
        "output.columns"
      ],
      "metadata": {
        "id": "DB8mGiMutBEf"
      },
      "execution_count": null,
      "outputs": []
    },
    {
      "cell_type": "code",
      "source": [
        "### select interest features\n",
        "finalize_data = output.select('Independent features', 'Salary')\n",
        "finalize_data.show()"
      ],
      "metadata": {
        "id": "q1FhiANdtBIE"
      },
      "execution_count": null,
      "outputs": []
    },
    {
      "cell_type": "markdown",
      "source": [
        "**LinearRegression**"
      ],
      "metadata": {
        "id": "s_B1U1P8xD3T"
      }
    },
    {
      "cell_type": "code",
      "source": [
        "from pyspark.ml.regression import LinearRegression\n",
        "### train test split\n",
        "train_data, test_data = finalize_data.randomSplit([0.75, 0.25])\n",
        "regressor = LinearRegression(featuresCol='Independent features', labelCol='Salary')\n",
        "regressor=regressor.fit(train_data)"
      ],
      "metadata": {
        "id": "ANaZl4FXt8Zy"
      },
      "execution_count": null,
      "outputs": []
    },
    {
      "cell_type": "markdown",
      "source": [
        "**Coefficients**"
      ],
      "metadata": {
        "id": "_q14vN7K1iYU"
      }
    },
    {
      "cell_type": "code",
      "source": [
        "regressor.coefficients"
      ],
      "metadata": {
        "id": "Xez-izp5t8iK"
      },
      "execution_count": null,
      "outputs": []
    },
    {
      "cell_type": "markdown",
      "source": [
        "**Intercepts**"
      ],
      "metadata": {
        "id": "TA9qY22U1zAQ"
      }
    },
    {
      "cell_type": "code",
      "source": [
        "regressor.intercept"
      ],
      "metadata": {
        "id": "H0sxWTw_1fwb"
      },
      "execution_count": null,
      "outputs": []
    },
    {
      "cell_type": "markdown",
      "source": [
        "**Prediction**"
      ],
      "metadata": {
        "id": "eb9Yuo4_2BpO"
      }
    },
    {
      "cell_type": "code",
      "source": [
        "pred_result = regressor.evaluate(test_data)\n",
        "pred_result.predictions.show()"
      ],
      "metadata": {
        "id": "jPMlTeKq1f01"
      },
      "execution_count": null,
      "outputs": []
    },
    {
      "cell_type": "code",
      "source": [
        "pred_result.meanAbsoluteError, pred_result.meanSquaredError"
      ],
      "metadata": {
        "id": "mru6JqWYt8lo"
      },
      "execution_count": null,
      "outputs": []
    }
  ]
}