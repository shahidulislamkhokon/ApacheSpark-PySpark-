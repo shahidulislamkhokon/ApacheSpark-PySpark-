{
  "nbformat": 4,
  "nbformat_minor": 0,
  "metadata": {
    "colab": {
      "private_outputs": true,
      "provenance": [],
      "machine_shape": "hm",
      "authorship_tag": "ABX9TyNJu4VF+lXETlIBwXVjGfjp",
      "include_colab_link": true
    },
    "kernelspec": {
      "name": "python3",
      "display_name": "Python 3"
    },
    "language_info": {
      "name": "python"
    },
    "accelerator": "GPU"
  },
  "cells": [
    {
      "cell_type": "markdown",
      "metadata": {
        "id": "view-in-github",
        "colab_type": "text"
      },
      "source": [
        "<a href=\"https://colab.research.google.com/github/shahidulislamkhokon/ApacheSpark-PySpark-/blob/main/PySpark_Filtering.ipynb\" target=\"_parent\"><img src=\"https://colab.research.google.com/assets/colab-badge.svg\" alt=\"Open In Colab\"/></a>"
      ]
    },
    {
      "cell_type": "markdown",
      "source": [
        "**PySpark DataFrames:**\n",
        "- Filter Operation\n",
        "- &, |, ==\n",
        "- ~"
      ],
      "metadata": {
        "id": "tQpbRxuOyJck"
      }
    },
    {
      "cell_type": "code",
      "source": [
        "!pip install pyspark"
      ],
      "metadata": {
        "id": "8sHHO1JIyoaH"
      },
      "execution_count": null,
      "outputs": []
    },
    {
      "cell_type": "code",
      "execution_count": null,
      "metadata": {
        "id": "LozJuwa1yB7z"
      },
      "outputs": [],
      "source": [
        "from pyspark.sql import SparkSession\n",
        "spark = SparkSession.builder.appName('dataframe').getOrCreate()"
      ]
    },
    {
      "cell_type": "code",
      "source": [
        "df_pyspark = spark.read.csv('test2_filtering.csv', header=True, inferSchema=True)\n",
        "df_pyspark.show()"
      ],
      "metadata": {
        "id": "NCZqx_O3yoeP"
      },
      "execution_count": null,
      "outputs": []
    },
    {
      "cell_type": "markdown",
      "source": [
        "**Filter Operations**"
      ],
      "metadata": {
        "id": "nqSVstFrzrER"
      }
    },
    {
      "cell_type": "code",
      "source": [
        "### Salary of the people less than or equal to 2000\n",
        "df_pyspark.filter('Salary<=2000').show()"
      ],
      "metadata": {
        "id": "tiDrm_bHyojD"
      },
      "execution_count": null,
      "outputs": []
    },
    {
      "cell_type": "code",
      "source": [
        "### select specific column\n",
        "df_pyspark.filter('Salary<=2000').select(['Name', 'Age']).show()"
      ],
      "metadata": {
        "id": "ZC8mhcAsyomo"
      },
      "execution_count": null,
      "outputs": []
    },
    {
      "cell_type": "code",
      "source": [
        "### another way of filtering\n",
        "df_pyspark.filter(df_pyspark['Salary']<=2000).show()"
      ],
      "metadata": {
        "id": "IIny6Cv7VjhI"
      },
      "execution_count": null,
      "outputs": []
    },
    {
      "cell_type": "code",
      "source": [
        "### select multiple column\n",
        "df_pyspark.filter((df_pyspark['Salary']<=2000) & (df_pyspark['Age']>=30)).show()"
      ],
      "metadata": {
        "id": "g8Zhy0HRVjj6"
      },
      "execution_count": null,
      "outputs": []
    },
    {
      "cell_type": "code",
      "source": [
        "### inverse filter operation\n",
        "df_pyspark.filter(~(df_pyspark['Salary']<=2000)).show()"
      ],
      "metadata": {
        "id": "50oyhs7DVjmF"
      },
      "execution_count": null,
      "outputs": []
    },
    {
      "cell_type": "code",
      "source": [],
      "metadata": {
        "id": "evmm9_4SVjot"
      },
      "execution_count": null,
      "outputs": []
    },
    {
      "cell_type": "code",
      "source": [],
      "metadata": {
        "id": "FoD6RtnaVjq5"
      },
      "execution_count": null,
      "outputs": []
    },
    {
      "cell_type": "code",
      "source": [],
      "metadata": {
        "id": "bM8PCFF2VjuR"
      },
      "execution_count": null,
      "outputs": []
    }
  ]
}