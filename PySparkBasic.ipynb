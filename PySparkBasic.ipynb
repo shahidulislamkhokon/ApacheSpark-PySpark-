{
  "nbformat": 4,
  "nbformat_minor": 0,
  "metadata": {
    "colab": {
      "private_outputs": true,
      "provenance": [],
      "authorship_tag": "ABX9TyMijaiDa8Kq/dvvofdt1cSl",
      "include_colab_link": true
    },
    "kernelspec": {
      "name": "python3",
      "display_name": "Python 3"
    },
    "language_info": {
      "name": "python"
    }
  },
  "cells": [
    {
      "cell_type": "markdown",
      "metadata": {
        "id": "view-in-github",
        "colab_type": "text"
      },
      "source": [
        "<a href=\"https://colab.research.google.com/github/shahidulislamkhokon/ApacheSpark-PySpark-/blob/main/PySparkBasic.ipynb\" target=\"_parent\"><img src=\"https://colab.research.google.com/assets/colab-badge.svg\" alt=\"Open In Colab\"/></a>"
      ]
    },
    {
      "cell_type": "code",
      "execution_count": null,
      "metadata": {
        "id": "2nAGFnC0h8h_"
      },
      "outputs": [],
      "source": [
        "# spark install\n",
        "!pip install pyspark"
      ]
    },
    {
      "cell_type": "code",
      "source": [
        "import pyspark\n",
        "import pandas as pd"
      ],
      "metadata": {
        "id": "Z9hBrt8miCJX"
      },
      "execution_count": null,
      "outputs": []
    },
    {
      "cell_type": "code",
      "source": [
        "#read file\n",
        "pd_data = pd.read_csv('test1.csv')\n",
        "pd_data"
      ],
      "metadata": {
        "id": "vU6M_plOiMQ4"
      },
      "execution_count": null,
      "outputs": []
    },
    {
      "cell_type": "code",
      "source": [
        "type(pd_data)"
      ],
      "metadata": {
        "id": "2GhHi17Wrb7k"
      },
      "execution_count": null,
      "outputs": []
    },
    {
      "cell_type": "code",
      "source": [
        "#createing SparkSession\n",
        "from pyspark.sql import SparkSession"
      ],
      "metadata": {
        "id": "Qv5XloIJiO6d"
      },
      "execution_count": null,
      "outputs": []
    },
    {
      "cell_type": "code",
      "source": [
        "spark = SparkSession.builder.appName('Practise').getOrCreate()"
      ],
      "metadata": {
        "id": "tGcyYYyKiTz1"
      },
      "execution_count": null,
      "outputs": []
    },
    {
      "cell_type": "code",
      "source": [
        "spark"
      ],
      "metadata": {
        "id": "FaioOaShiWZp"
      },
      "execution_count": null,
      "outputs": []
    },
    {
      "cell_type": "markdown",
      "source": [
        "Read dataset with respect to pyspark"
      ],
      "metadata": {
        "id": "Rb2mbwrkqJ9y"
      }
    },
    {
      "cell_type": "code",
      "source": [
        "df_pyspark = spark.read.csv('test1.csv')\n",
        "\n",
        "#show dataframe\n",
        "df_pyspark.show()"
      ],
      "metadata": {
        "id": "_ej51jMApxmG"
      },
      "execution_count": null,
      "outputs": []
    },
    {
      "cell_type": "markdown",
      "source": [
        "Read dataframe header"
      ],
      "metadata": {
        "id": "0ZCjwaOTqbLm"
      }
    },
    {
      "cell_type": "code",
      "source": [
        "spark.read.option('header', 'true').csv('test1.csv')"
      ],
      "metadata": {
        "id": "M_l9Zoh-qafW"
      },
      "execution_count": null,
      "outputs": []
    },
    {
      "cell_type": "markdown",
      "source": [
        "Check data type"
      ],
      "metadata": {
        "id": "bwIMHM98rP8l"
      }
    },
    {
      "cell_type": "code",
      "source": [
        "type(df_pyspark)"
      ],
      "metadata": {
        "id": "zBfeej5urSxy"
      },
      "execution_count": null,
      "outputs": []
    },
    {
      "cell_type": "markdown",
      "source": [
        "Show column name and type"
      ],
      "metadata": {
        "id": "xnHvtH1gr0f6"
      }
    },
    {
      "cell_type": "code",
      "source": [
        "df_pyspark.printSchema()"
      ],
      "metadata": {
        "id": "qnFSUO7Br5lw"
      },
      "execution_count": null,
      "outputs": []
    }
  ]
}